{
 "cells": [
  {
   "cell_type": "markdown",
   "id": "aec6ab8c",
   "metadata": {},
   "source": [
    "### Some Reference Links\n",
    "\n",
    "[To get into C++](#https://stackoverflow.com/questions/388242/the-definitive-c-book-guide-and-list),   [Online Shell](#http://cpp.sh/),    [Standardization](#https://isocpp.org/std) <br/>\n",
    "\n",
    "The C++ Programming Language - Bjarne Stroustrup <br>\n",
    "Thinking in C++ - Bruce Eckel\n"
   ]
  },
  {
   "cell_type": "markdown",
   "id": "19d88b07",
   "metadata": {},
   "source": [
    "## Birth of C++\n",
    "\n",
    "Bjarne Stroustrup began developing C++ in 1979\n",
    "\n",
    ">**Lexicon** - The symbols (letters, digits, punctuation marks, and so on) could be used in the language. <br>\n",
    ">**Language** - The appropriate ways of collating the symbols.  <br> \n",
    ">**Semantics** - To recognize the meaning of every statement expressed in the given language. <br>\n",
    "\n",
    "Any program we write must be error-free in these three ways: lexically, syntactically and semantically."
   ]
  },
  {
   "cell_type": "markdown",
   "id": "747f51b3",
   "metadata": {},
   "source": [
    "## Build C++ Programs\n",
    "\n",
    "\n",
    "#### Source Code\n",
    "   >Source code is written into a file: `foo.cpp` <br>\n",
    "   \n",
    "   Other suffixes like `cc, cp, cxx, c++ or even C` (note that this is a capital letter)\n",
    "\n",
    "#### Compilation\n",
    " >The process of translating from a **high-level language** into a **machine language**.\n",
    "\n",
    "1. Compiler translates source code ---> machine language.\n",
    "2. If NO errors found, the result will be an **executable file**. \n",
    "3. The name of the file depends on the compiler and OS you use. <br>\n",
    "  Ex: If foo.cpp is compiled:\n",
    "   - Unix/Linux system creates an output file named `a.out` by default <br>\n",
    "   - MS Windows system creates an output file named `a.exe` by default <br><br>\n",
    "4. When source code is divided among dozens of source files compiling process splits into two phases:\n",
    "   - compilation:  src ---> machine language\n",
    "   - joining: gluing of your executable code with the executable code from other files into a single and unified product\n",
    "\n",
    "\n",
    "#### Linking\n",
    " >The phase of \"gluing\" the different executable codes."
   ]
  },
  {
   "cell_type": "markdown",
   "id": "77a47422",
   "metadata": {},
   "source": [
    "### Decomposing Code Snippet\n",
    "\n",
    "```c++\n",
    "#include <iostream>\n",
    "\n",
    "using namespace std;\n",
    "int main(void)\n",
    "{\n",
    "  cout << \"It's me, your first program.\";\n",
    "  return 0;\n",
    "}\n",
    "```"
   ]
  },
  {
   "cell_type": "markdown",
   "id": "f2c0ee18",
   "metadata": {},
   "source": [
    "#### `#include <iostream>`\n",
    "\n",
    "#### Pre-processor - `#`\n",
    "- \\# (hash) at the begginning means that its a pre-processor directive.\n",
    "\n",
    "- The prefix \"pre\" suggests operations are performed before compilation.\n",
    "\n",
    "#### Directive - `include <>`\n",
    "- The `include` directive replaces the directive with the content of the file whose name is listed in the directive (iostream).\n",
    "\n",
    "- This alteration are made on a volatile copy of your program that disappears immediately after the compiler finishes its work.\n",
    "\n",
    "#### Header file `iostream`\n",
    "- A set of preliminary information that the compiler needs is included in header files."
   ]
  },
  {
   "cell_type": "markdown",
   "id": "6db2e566",
   "metadata": {},
   "source": [
    "#### `using namespace std;`\n",
    "- All elements of the standard C++ library are declared inside the namespace called `std`.\n",
    "- Its an abstract environment created to hold a logical grouping of unique entities (blocks).\n",
    "- If you want to use many of the standard C++ entities insert the `using namespace` instruction at the top of each file, outside of any function."
   ]
  },
  {
   "cell_type": "markdown",
   "id": "2f32ef62",
   "metadata": {},
   "source": [
    "#### `int main(void)`\n",
    "- Result of a function is an `int`\n",
    "- Name of the function is `main`\n",
    "- Args to the function main is empty `void`\n",
    "- It is possible to create an **empty function**\n",
    "> `void lazy(void) { }`\n",
    "\n"
   ]
  },
  {
   "cell_type": "code",
   "execution_count": null,
   "id": "4cbc877a",
   "metadata": {},
   "outputs": [],
   "source": []
  }
 ],
 "metadata": {
  "kernelspec": {
   "display_name": "C++17",
   "language": "C++17",
   "name": "xcpp17"
  },
  "language_info": {
   "codemirror_mode": "text/x-c++src",
   "file_extension": ".cpp",
   "mimetype": "text/x-c++src",
   "name": "c++",
   "version": "17"
  }
 },
 "nbformat": 4,
 "nbformat_minor": 5
}
