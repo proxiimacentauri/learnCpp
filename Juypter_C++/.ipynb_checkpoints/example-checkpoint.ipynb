{
 "cells": [
  {
   "cell_type": "code",
   "execution_count": 10,
   "id": "430ebbe4",
   "metadata": {},
   "outputs": [],
   "source": [
    "#include <iostream>\n",
    "using namespace std;"
   ]
  },
  {
   "cell_type": "code",
   "execution_count": 12,
   "id": "4bd6a238",
   "metadata": {},
   "outputs": [
    {
     "name": "stdout",
     "output_type": "stream",
     "text": [
      "Hello World!"
     ]
    }
   ],
   "source": [
    "cout << \"Hello World!\";"
   ]
  },
  {
   "cell_type": "code",
   "execution_count": 13,
   "id": "2f1fa84d",
   "metadata": {},
   "outputs": [],
   "source": [
    "int dfs()\n",
    "{\n",
    "    cout << \"I am inside the func\";\n",
    "    return 0;\n",
    "}"
   ]
  },
  {
   "cell_type": "code",
   "execution_count": 15,
   "id": "847438a0",
   "metadata": {},
   "outputs": [
    {
     "name": "stdout",
     "output_type": "stream",
     "text": [
      "I am inside the func"
     ]
    }
   ],
   "source": [
    "dfs();"
   ]
  },
  {
   "cell_type": "code",
   "execution_count": 16,
   "id": "5d3e831d",
   "metadata": {},
   "outputs": [
    {
     "name": "stdout",
     "output_type": "stream",
     "text": [
      "Enter dividend: 5\n",
      "Enter divisor: 5\n",
      "Quotient = 1\n",
      "Remainder = 0"
     ]
    }
   ],
   "source": [
    "    int divisor, dividend, quotient, remainder;\n",
    "\n",
    "    cout << \"Enter dividend: \";\n",
    "    cin >> dividend;\n",
    "\n",
    "    cout << \"Enter divisor: \";\n",
    "    cin >> divisor;\n",
    "\n",
    "    quotient = dividend / divisor;\n",
    "    remainder = dividend % divisor;\n",
    "\n",
    "    cout << \"Quotient = \" << quotient << endl;\n",
    "    cout << \"Remainder = \" << remainder;"
   ]
  },
  {
   "cell_type": "markdown",
   "id": "988d72fb",
   "metadata": {},
   "source": [
    "[Intro to Jumping](#Intro-to-Jumping)"
   ]
  },
  {
   "cell_type": "markdown",
   "id": "281c8c03",
   "metadata": {},
   "source": [
    "[Hyper Link](https://en.wikipedia.org)"
   ]
  },
  {
   "cell_type": "markdown",
   "id": "b443bd15",
   "metadata": {},
   "source": [
    "<div class=\"alert alert-block alert-warning\">\n",
    "<b>Example:</b> Use yellow boxes for examples that are not inside code cells, or use for mathematical formulas if needed. Typically also used to display warning messages.\n",
    "</div>"
   ]
  },
  {
   "cell_type": "markdown",
   "id": "c267c290",
   "metadata": {},
   "source": [
    "<div class=\"alert alert-block alert-success\">\n",
    "<b>Success:</b> This alert box indicates a successful or positive action.\n",
    "</div>"
   ]
  },
  {
   "cell_type": "markdown",
   "id": "b37a5c8b",
   "metadata": {},
   "source": [
    "<div class=\"alert alert-block alert-danger\">\n",
    "<b>Danger:</b> This alert box indicates a dangerous or potentially negative action.\n",
    "</div>"
   ]
  },
  {
   "cell_type": "markdown",
   "id": "fdbf321f",
   "metadata": {},
   "source": [
    "<div class=\"alert alert-block alert-info\">\n",
    "<b>Tip:</b> Use blue boxes (alert-info) for tips and notes.</div>"
   ]
  },
  {
   "cell_type": "markdown",
   "id": "012a083b",
   "metadata": {},
   "source": [
    "<span style=\"font-family:Comic Sans MS\">This is a text</span>"
   ]
  },
  {
   "cell_type": "markdown",
   "id": "8ebe0185",
   "metadata": {},
   "source": [
    "<code style=\"background:yellow;color:black\">Useful for highlighting to grab the attention of the reader towards certain points.</code>"
   ]
  },
  {
   "cell_type": "markdown",
   "id": "97335c41",
   "metadata": {},
   "source": [
    "<dl>\n",
    "<dt>First Term</dt>\n",
    "<dd>This is the definition of the first term.</dd>\n",
    "<dt>Second Term</dt>\n",
    "<dd>This is one definition of the second term. </dd>\n",
    "<dd>This is another definition of the second term.</dd>\n",
    "</dl>"
   ]
  },
  {
   "cell_type": "markdown",
   "id": "bb1e5fe3",
   "metadata": {},
   "source": [
    "<nav>\n",
    "<a href=”https://www.google.com\">LinkedIn</a> |\n",
    "<a href=”/css/”>Github</a> |\n",
    "<a href=”/js/”>Medium</a> |\n",
    "</nav>"
   ]
  },
  {
   "cell_type": "markdown",
   "id": "c774d90f",
   "metadata": {},
   "source": [
    "$\\sqrt{k}$"
   ]
  },
  {
   "cell_type": "markdown",
   "id": "a69556fd",
   "metadata": {},
   "source": [
    "|Header|Header|Header|\n",
    "|------|------|------|\n",
    "|A     |B     |C     |\n",
    "|X     |Y     |Z     |"
   ]
  },
  {
   "cell_type": "markdown",
   "id": "29393573",
   "metadata": {},
   "source": [
    "```javascript\n",
    "var s = \"JavaScript syntax highlighting\";\n",
    "alert(s);\n",
    "```\n",
    "```python\n",
    "s = \"Python syntax highlighting\"\n",
    "print s\n",
    "```\n",
    "\n",
    "```c++\n",
    "#include<iostream.h>\n",
    "typedef i int;\n",
    "dfs()\n",
    "{\n",
    "    s = \"c++ syntax highlighting\";\n",
    "    cout << s;\n",
    "}\n",
    "```"
   ]
  },
  {
   "cell_type": "markdown",
   "id": "dfba5bb6",
   "metadata": {},
   "source": [
    "## Intro to Jumping"
   ]
  },
  {
   "cell_type": "markdown",
   "id": "a3071595",
   "metadata": {},
   "source": [
    "`some piece of inline code`\n",
    "```\n",
    "asdfasdf\n",
    "some piece of block code\n",
    "asdf\n",
    "```"
   ]
  },
  {
   "cell_type": "markdown",
   "id": "f8e4ff0a",
   "metadata": {},
   "source": [
    "---\n",
    "___\n",
    "***"
   ]
  },
  {
   "cell_type": "markdown",
   "id": "bbc15f61",
   "metadata": {},
   "source": []
  }
 ],
 "metadata": {
  "kernelspec": {
   "display_name": "C++17",
   "language": "C++17",
   "name": "xcpp17"
  },
  "language_info": {
   "codemirror_mode": "text/x-c++src",
   "file_extension": ".cpp",
   "mimetype": "text/x-c++src",
   "name": "c++",
   "version": "17"
  }
 },
 "nbformat": 4,
 "nbformat_minor": 5
}
